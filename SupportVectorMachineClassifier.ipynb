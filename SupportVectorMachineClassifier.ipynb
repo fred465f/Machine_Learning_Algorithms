{
 "cells": [
  {
   "cell_type": "code",
   "execution_count": 1,
   "metadata": {},
   "outputs": [],
   "source": [
    "from sklearn.model_selection import train_test_split\n",
    "from sklearn.preprocessing import StandardScaler\n",
    "from sklearn.svm import SVC\n",
    "import matplotlib.pyplot as plt\n",
    "import numpy as np\n",
    "import pandas as pd"
   ]
  },
  {
   "cell_type": "code",
   "execution_count": 2,
   "metadata": {},
   "outputs": [],
   "source": [
    "# Plot settings\n",
    "plt.rc(\"font\", family=[\"Helvetica\", \"Arial\"]) # skifter skrifttype\n",
    "plt.rc(\"axes\", labelsize=16)   # skriftstørrelse af `xlabel` og `ylabel`\n",
    "plt.rc(\"xtick\", labelsize=16, top=True, direction=\"in\")  # skriftstørrelse af ticks og viser ticks øverst\n",
    "plt.rc(\"ytick\", labelsize=16, right=True, direction=\"in\")\n",
    "plt.rc(\"axes\", titlesize=16)\n",
    "plt.rc(\"legend\", fontsize=16)"
   ]
  },
  {
   "cell_type": "code",
   "execution_count": 3,
   "metadata": {},
   "outputs": [
    {
     "data": {
      "image/png": "[encoded data removed]",
      "text/plain": [
       "<Figure size 432x288 with 1 Axes>"
      ]
     },
     "metadata": {
      "needs_background": "light"
     },
     "output_type": "display_data"
    }
   ],
   "source": [
    "# Create data\n",
    "X = np.array([[-1, -1], [-2, -1], [1, 1], [2, 1]])\n",
    "y = np.array([1, 1, 2, 2])\n",
    "\n",
    "# Plot data\n",
    "plt.scatter([x[0] for x in X][:2],[x[1] for x in X][:2],color='Blue')\n",
    "plt.scatter([x[0] for x in X][2:4],[x[1] for x in X][2:4],color='Red')\n",
    "\n",
    "# Plot settings\n",
    "plt.xlabel('x')\n",
    "plt.xlabel('y')\n",
    "plt.title('Data')\n",
    "plt.show()"
   ]
  },
  {
   "cell_type": "markdown",
   "metadata": {},
   "source": [
    "Support Vector Machine Classifier have different kernel's:\n",
    " - Linear\n",
    " - poly\n",
    " - rbf\n",
    " - sigmoid\n",
    " - precomputed \n",
    "<br/> <br/>\n",
    "Different kernels, transform data that is not linear seperable into a higher dimension, in which it is linear seperable.\n",
    "Default kernel is rbf, which transforms data into an infinite dimensional space."
   ]
  },
  {
   "cell_type": "code",
   "execution_count": 4,
   "metadata": {},
   "outputs": [
    {
     "name": "stdout",
     "output_type": "stream",
     "text": [
      "1.0\n"
     ]
    }
   ],
   "source": [
    "# Create and fit StandardScaler\n",
    "scaler = StandardScaler()\n",
    "scaler.fit(X,y)\n",
    "\n",
    "# Scale data\n",
    "X_scale = scaler.transform(X)\n",
    "\n",
    "# Split dataset into training data and validation data\n",
    "training_data, validation_data, training_labels, validation_labels = train_test_split(X_scale, y, train_size = 0.75, test_size = 0.25, random_state = 100)\n",
    "\n",
    "# Create and fit classifier with linear kernel\n",
    "classifier = SVC(kernel = \"linear\", gamma = 0.1, C = 1)\n",
    "classifier.fit(training_data, training_labels)\n",
    "\n",
    "# Print score for classifier\n",
    "print(classifier.score(validation_data, validation_labels))"
   ]
  },
  {
   "cell_type": "code",
   "execution_count": 5,
   "metadata": {},
   "outputs": [
    {
     "data": {
      "image/png": "[encoded data removed]",
      "text/plain": [
       "<Figure size 432x288 with 1 Axes>"
      ]
     },
     "metadata": {},
     "output_type": "display_data"
    }
   ],
   "source": [
    "# Define functions\n",
    "def make_meshgrid(x, y, h=.02):\n",
    "    x_min, x_max = x.min() - 1, x.max() + 1\n",
    "    y_min, y_max = y.min() - 1, y.max() + 1\n",
    "    xx, yy = np.meshgrid(np.arange(x_min, x_max, h), np.arange(y_min, y_max, h))\n",
    "    return xx, yy\n",
    "\n",
    "def plot_contours(ax, clf, xx, yy, **params):\n",
    "    Z = clf.predict(np.c_[xx.ravel(), yy.ravel()])\n",
    "    Z = Z.reshape(xx.shape)\n",
    "    out = ax.contourf(xx, yy, Z, **params)\n",
    "    return out\n",
    "\n",
    "# Define subplots\n",
    "fig, ax = plt.subplots()\n",
    "# title for the plots\n",
    "title = ('Decision surface of linear SVC ')\n",
    "# Set-up grid for plotting.\n",
    "X0, X1 = X[:, 0], X[:, 1]\n",
    "xx, yy = make_meshgrid(X0, X1)\n",
    "\n",
    "# Plot settings\n",
    "plot_contours(ax, classifier, xx, yy, cmap=plt.cm.coolwarm, alpha=0.8)\n",
    "ax.scatter(X0, X1, c=y, cmap=plt.cm.coolwarm, s=20, edgecolors='k')\n",
    "ax.set_ylabel('y label here')\n",
    "ax.set_xlabel('x label here')\n",
    "ax.set_xticks(())\n",
    "ax.set_yticks(())\n",
    "ax.set_title(title)\n",
    "plt.show()"
   ]
  },
  {
   "cell_type": "code",
   "execution_count": null,
   "metadata": {},
   "outputs": [],
   "source": []
  }
 ],
 "metadata": {
  "kernelspec": {
   "display_name": "Python 3",
   "language": "python",
   "name": "python3"
  },
  "language_info": {
   "codemirror_mode": {
    "name": "ipython",
    "version": 3
   },
   "file_extension": ".py",
   "mimetype": "text/x-python",
   "name": "python",
   "nbconvert_exporter": "python",
   "pygments_lexer": "ipython3",
   "version": "3.8.3"
  }
 },
 "nbformat": 4,
 "nbformat_minor": 4
}
