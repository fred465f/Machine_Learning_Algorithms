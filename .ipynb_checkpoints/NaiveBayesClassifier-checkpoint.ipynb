{
 "cells": [
  {
   "cell_type": "code",
   "execution_count": 1,
   "metadata": {},
   "outputs": [],
   "source": [
    "from sklearn.feature_extraction.text import CountVectorizer\n",
    "from sklearn.naive_bayes import MultinomialNB"
   ]
  },
  {
   "cell_type": "markdown",
   "metadata": {},
   "source": [
    "The naive bayes classifier is based on bayes theorem:\n",
    "$$P(A|B) = \\frac{P(B|A)P(A)}{P(B)}$$\n",
    "The model makes the assumption, that one \"word\" is independent of the next. Bigram og trigram models, ease on this assumption."
   ]
  },
  {
   "cell_type": "code",
   "execution_count": 2,
   "metadata": {},
   "outputs": [
    {
     "name": "stdout",
     "output_type": "stream",
     "text": [
      "{'hello': 5, 'how': 6, 'are': 1, 'friend': 4, 'evil': 3, 'bad': 2, 'amazing': 0}\n",
      "[[1 0 0 0 1 0 0]]\n"
     ]
    }
   ],
   "source": [
    "# Create data and labels (data could be whole sentences)\n",
    "train = ['Hello','how','are','friend','evil','bad','Amazing']\n",
    "labels = [1,1,1,1,0,0,1]\n",
    "\n",
    "# Test data\n",
    "review = 'Amazing friend'\n",
    "\n",
    "# Create countvectorizer, fit and print vocabulary\n",
    "counter = CountVectorizer()\n",
    "counter.fit(train)\n",
    "print(counter.vocabulary_)\n",
    "\n",
    "# Transform test data and print\n",
    "review_counts = counter.transform([review])\n",
    "print(review_counts.toarray())\n",
    "\n",
    "# Transform training data\n",
    "training_counts = counter.transform(train)"
   ]
  },
  {
   "cell_type": "markdown",
   "metadata": {},
   "source": [
    "Data cleaning tips:\n",
    " - Remove punctuation from the training set\n",
    " - Lowercase every word in the training set\n",
    " - Use a bigram or trigram model which makes the assumption of independence more reasonable"
   ]
  },
  {
   "cell_type": "code",
   "execution_count": 3,
   "metadata": {},
   "outputs": [
    {
     "name": "stdout",
     "output_type": "stream",
     "text": [
      "[1]\n",
      "[[0.1509434 0.8490566]]\n"
     ]
    }
   ],
   "source": [
    "# Create classifier\n",
    "classifier = MultinomialNB()\n",
    "\n",
    "# Train classifier\n",
    "classifier.fit(training_counts, labels)\n",
    "\n",
    "# Print classifier prediction on test data\n",
    "print(classifier.predict(review_counts))\n",
    "\n",
    "# Print classifier probability prediction on test data\n",
    "print(classifier.predict_proba(review_counts))"
   ]
  }
 ],
 "metadata": {
  "kernelspec": {
   "display_name": "Python 3",
   "language": "python",
   "name": "python3"
  },
  "language_info": {
   "codemirror_mode": {
    "name": "ipython",
    "version": 3
   },
   "file_extension": ".py",
   "mimetype": "text/x-python",
   "name": "python",
   "nbconvert_exporter": "python",
   "pygments_lexer": "ipython3",
   "version": "3.8.3"
  }
 },
 "nbformat": 4,
 "nbformat_minor": 4
}
